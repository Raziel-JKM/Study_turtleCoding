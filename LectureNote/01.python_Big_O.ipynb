{
 "cells": [
  {
   "cell_type": "markdown",
   "metadata": {
    "id": "sXVrBr_PcWVR"
   },
   "source": [
    "# 03. 파이썬\n",
    "\n",
    "\n",
    "## 3-1. 파이썬 문법\n",
    "\n",
    "<br>\n",
    "\n",
    "### 인덴트(indent)\n",
    "\n",
    "> **PEP 8** 에 따라 **공백 4칸**을 원칙으로 한다.\n",
    ">"
   ]
  },
  {
   "cell_type": "code",
   "execution_count": null,
   "metadata": {
    "id": "JAooJWjtcPNA"
   },
   "outputs": [],
   "source": [
    "# 첫 줄에 파라미터가 있는 경우, 파라미터 시작 부분에 맞춤\n",
    "def long_function_name(var_one, var_two, \n",
    "                       var_three, var_four):\n",
    "    pass\n",
    "\n",
    "# 첫 줄에 파라미터가 없는 경우, 공백 8칸\n",
    "def long_function_name(\n",
    "    var_one, var_two, \n",
    "    var_three, var_four):\n",
    "    pass"
   ]
  },
  {
   "cell_type": "markdown",
   "metadata": {
    "id": "uY9B2ZZrcw_f"
   },
   "source": [
    "<br><br>\n",
    "\n",
    "### 네이밍 컨벤션(Naming Convention)\n",
    "\n",
    "> 파이썬의 변수명과 함수명은 *스네이크 케이스(Snake Case)*를 따른다.\n",
    "> \n",
    "\n",
    "스네이크 케이스(snake**_**case): 각 단어를 밑줄(_)로 구분하여 표기\n",
    "\n",
    "카멜 케이스(**c**amel **C**ase): 단어를 대소문자로 구분하여 섞어서 작명하는 방식\n",
    "\n",
    "파스칼 케이스(**P**ascal **C**ase): 단어의 첫 문자는 모두 대문자로 시작하도록 함"
   ]
  },
  {
   "cell_type": "markdown",
   "metadata": {
    "id": "IPUWipzNczQm"
   },
   "source": [
    "<br><br>\n",
    "\n",
    "### 타입 힌트(Type Hint)\n",
    "\n",
    "> 타입을 지정하는 것.\n",
    "함수에 사용 시, 파라미터의 자료형과 리턴 값을 명시할 수 있음\n",
    "\n",
    "- 타입힌트는 파이썬 버전 3.5 이상부터 사용 가능\n",
    "\n",
    "- `mypy` 를 사용하면 타입 힌트에 오류가 없는지 자동으로 확인 가능"
   ]
  },
  {
   "cell_type": "code",
   "execution_count": null,
   "metadata": {
    "id": "j2D7QCrDc2ad"
   },
   "outputs": [],
   "source": [
    "def fn(a: int) -> bool:\n",
    "    pass"
   ]
  },
  {
   "cell_type": "markdown",
   "metadata": {
    "id": "2anmdZbGc5Yn"
   },
   "source": [
    "<br><br>\n",
    "\n",
    "### 리스트 컴프리헨션(List Comprehension)\n",
    "\n",
    "> 기존 리스트를 기반으로 새로운 리스트를 만들어내는 것\n",
    "> \n",
    "\n",
    "적절하게 사용하면 가독성을 높일 수 있다.\n",
    "\n",
    "표현식은 2개를 넘지 않도록 한다."
   ]
  },
  {
   "cell_type": "code",
   "execution_count": null,
   "metadata": {
    "colab": {
     "base_uri": "https://localhost:8080/"
    },
    "id": "RuBYsY0zdA5O",
    "outputId": "cbc6ea7d-392d-4250-99b9-8fe56b0e0871"
   },
   "outputs": [
    {
     "data": {
      "text/plain": [
       "[2, 6, 10, 14, 18]"
      ]
     },
     "execution_count": 4,
     "metadata": {},
     "output_type": "execute_result"
    }
   ],
   "source": [
    "a = [n * 2 for n in range(1, 10 + 1) if n % 2 == 1]\n",
    "a"
   ]
  },
  {
   "cell_type": "markdown",
   "metadata": {
    "id": "4rdbEXnWdGF1"
   },
   "source": [
    "<br><br>\n",
    "\n",
    "\n",
    "### 제너레이터(Generator)\n",
    "\n",
    "> 루프의 반복(iteration) 동작을 제어할 수 있는 루틴 형태\n",
    "\n",
    "\n",
    "- `yield` 구문을 사용하면 제너레이터를 리턴할 수 있다.\n",
    "\n",
    "- `yield` 는 중간 값을 리턴한 다음 함수는 종료되지 않고 계속해서 맨 끝에 도달할 때까지 실행된다.\n",
    "\n",
    "- 제너레이터는 여러 타입의 값을 하나의 함수에서 생성하는 것도 가능함"
   ]
  },
  {
   "cell_type": "code",
   "execution_count": null,
   "metadata": {
    "id": "2VKI7jz3dKOm"
   },
   "outputs": [],
   "source": [
    "def get_natuiral_number():\n",
    "    n = 0\n",
    "    while True:\n",
    "        n += 1\n",
    "        yield n"
   ]
  },
  {
   "cell_type": "markdown",
   "metadata": {
    "id": "R6ytYPXkdTa1"
   },
   "source": [
    "\n",
    "<br><br>\n",
    "#### range\n",
    "- 제너레이터의 방식을 활용하는 대표적인 함수\n",
    "- for문에서 사용할 경우 내부적으로 제너레이터의 `next()`를 호출하듯 매번 다음 숫자를 생성\n",
    "- range 클래스를 이용하면 생성 조건만 보관하기 때문에 메모리 사용에 효율적\n",
    "- 인덱스로 접근 시에는 바로 생성하도록 구현"
   ]
  },
  {
   "cell_type": "markdown",
   "metadata": {
    "id": "uGhtsgL5dbgT"
   },
   "source": [
    "<br><br>\n",
    "\n",
    "### enumerate\n",
    "\n",
    "> 여러 자료형을 인덱스를 포함한 enumerate 객체로 리턴\n",
    "인덱스를 자동으로 부여해줘서 편함\n"
   ]
  },
  {
   "cell_type": "code",
   "execution_count": null,
   "metadata": {
    "colab": {
     "base_uri": "https://localhost:8080/"
    },
    "id": "xVwCoZJ2dewI",
    "outputId": "b9534d70-bbb6-46c4-e667-3e33fa946760"
   },
   "outputs": [
    {
     "name": "stdout",
     "output_type": "stream",
     "text": [
      "0 a1\n",
      "1 a2\n",
      "2 a3\n"
     ]
    }
   ],
   "source": [
    "a = ['a1', 'a2', 'a3']\n",
    "\n",
    "for i, v in enumerate(a):\n",
    "    print(i, v)"
   ]
  },
  {
   "cell_type": "markdown",
   "metadata": {
    "id": "0IV_XG6zdjC8"
   },
   "source": [
    "<br><br>4\n",
    "\n",
    "### 나눗셈 연산자 `//`\n",
    "\n",
    "> 몫을 구하는 연산자.  \n",
    "정수형을 나눗셈할 때 동일한 정수형을 결과로 리턴하면서 내림 연산자 역할을 함.\n",
    "> \n",
    "\n",
    "`%`: 나머지를 구하는 모듈로 연산자\n",
    "\n",
    "`divmod()`: 몫과 나머지를 동시에 구할 때 사용하는 함수"
   ]
  },
  {
   "cell_type": "markdown",
   "metadata": {
    "id": "woAOpEQ6dk1r"
   },
   "source": [
    "<br><br>\n",
    "\n",
    "### print\n",
    "\n",
    "> 코딩테스트에서 `print()` 는 디버깅을 할 때 자주 쓰인다.\n",
    "> \n",
    "\n",
    "`sep()` : 출력 결과를 콤마(,)로 구분\n",
    "\n",
    "`end()` : 출력의 끝부분 변경 (기본은 줄바꿈)\n",
    "\n",
    "`join()` : 리스트의 요소들을 출력할 때 사용\n",
    "\n",
    "`f-string(formated string literal)` : 인라인으로 삽입할 수 있어 편리하게 사용, 파이썬 3.6+에서만 지원"
   ]
  },
  {
   "cell_type": "markdown",
   "metadata": {
    "id": "ikpjMaYYdnEE"
   },
   "source": [
    "<br><br>\n",
    "\n",
    "### Pass\n",
    "\n",
    "> 널 연산으로 아무것도 하지 않는 기능  \n",
    "목업 인터페이스부터 구현한 다음 추후 구현을 진행할 수 있게 함\n",
    ">"
   ]
  },
  {
   "cell_type": "code",
   "execution_count": null,
   "metadata": {
    "id": "-Qwgk8eVdgCT"
   },
   "outputs": [],
   "source": [
    "class MyClass(object):\n",
    "    def method_a(self):\n",
    "        pass"
   ]
  },
  {
   "cell_type": "markdown",
   "metadata": {
    "id": "OyT14xE_dwQJ"
   },
   "source": [
    "<br><br>\n",
    "\n",
    "### locals\n",
    "\n",
    "> `locals()` 는 로컬 심볼 테이블 딕셔너리를 가져오는 메소드로 업데이트도 가능\n",
    ">\n",
    "- 로컬에 선언된 모든 변수 조회 가능\n",
    "- 디버깅에 도움\n",
    "- 로컬 스코프에 제한해 정보 조회 → 클래스의 특정 메소드 내부에서나 함수 내부의 로컬 정보를 조회해 잘못 선언한 부분이 없는지 확인하는 용도"
   ]
  },
  {
   "cell_type": "code",
   "execution_count": null,
   "metadata": {
    "colab": {
     "base_uri": "https://localhost:8080/"
    },
    "id": "hICW0apbdrBz",
    "outputId": "1bb66e1a-23bb-4731-832b-7498c83cb615"
   },
   "outputs": [
    {
     "name": "stdout",
     "output_type": "stream",
     "text": [
      "{'In': ['',\n",
      "        '# 첫 줄에 파라미터가 있는 경우, 파라미터 시작 부분에 맞춤\\n'\n",
      "        'def long_function_name(var_one, var_two, \\n'\n",
      "        '\\t\\t\\t\\t\\t\\t\\t\\t\\t\\t\\t var_three, var_four)\\n'\n",
      "        '\\n'\n",
      "        '# 첫 줄에 파라미터가 없는 경우, 공백 8칸\\n'\n",
      "        'def long_function_name(\\n'\n",
      "        '        var_one, var_two, \\n'\n",
      "        '\\t\\t\\t  var_three, var_four)',\n",
      "        '# 첫 줄에 파라미터가 있는 경우, 파라미터 시작 부분에 맞춤\\n'\n",
      "        'def long_function_name(var_one, var_two, \\n'\n",
      "        '                       var_three, var_four):\\n'\n",
      "        '    pass\\n'\n",
      "        '\\n'\n",
      "        '# 첫 줄에 파라미터가 없는 경우, 공백 8칸\\n'\n",
      "        'def long_function_name(\\n'\n",
      "        '    var_one, var_two, \\n'\n",
      "        '    var_three, var_four):\\n'\n",
      "        '    pass',\n",
      "        'def fn(a: int) -> bool:\\n    pass',\n",
      "        'a = [n * 2 for n in range(1, 10 + 1) if n % 2 == 1]\\na',\n",
      "        'def get_natuiral_number():\\n'\n",
      "        '    n = 0\\n'\n",
      "        '    while True:\\n'\n",
      "        '        n += 1\\n'\n",
      "        '        yield n',\n",
      "        \"a = ['a1', 'a2', 'a3']\\n\\nfor i, v in enumerate(a):\\n    print(i, v)\",\n",
      "        'class MyClass(object):\\n    def method_a(self):\\n        pass',\n",
      "        'import pprint\\npprint.pprint(locals())',\n",
      "        'import pprint\\npprint.pprint(locals(MyClass()))',\n",
      "        'import pprint\\npprint.pprint(locals(MyClass))',\n",
      "        'import pprint\\npprint.pprint(locals())'],\n",
      " 'MyClass': <class '__main__.MyClass'>,\n",
      " 'Out': {4: [2, 6, 10, 14, 18]},\n",
      " '_': [2, 6, 10, 14, 18],\n",
      " '_4': [2, 6, 10, 14, 18],\n",
      " '__': '',\n",
      " '___': '',\n",
      " '__builtin__': <module 'builtins' (built-in)>,\n",
      " '__builtins__': <module 'builtins' (built-in)>,\n",
      " '__doc__': 'Automatically created module for IPython interactive environment',\n",
      " '__loader__': None,\n",
      " '__name__': '__main__',\n",
      " '__package__': None,\n",
      " '__spec__': None,\n",
      " '_dh': ['/content'],\n",
      " '_i': 'import pprint\\npprint.pprint(locals(MyClass))',\n",
      " '_i1': '# 첫 줄에 파라미터가 있는 경우, 파라미터 시작 부분에 맞춤\\n'\n",
      "        'def long_function_name(var_one, var_two, \\n'\n",
      "        '\\t\\t\\t\\t\\t\\t\\t\\t\\t\\t\\t var_three, var_four)\\n'\n",
      "        '\\n'\n",
      "        '# 첫 줄에 파라미터가 없는 경우, 공백 8칸\\n'\n",
      "        'def long_function_name(\\n'\n",
      "        '        var_one, var_two, \\n'\n",
      "        '\\t\\t\\t  var_three, var_four)',\n",
      " '_i10': 'import pprint\\npprint.pprint(locals(MyClass))',\n",
      " '_i11': 'import pprint\\npprint.pprint(locals())',\n",
      " '_i2': '# 첫 줄에 파라미터가 있는 경우, 파라미터 시작 부분에 맞춤\\n'\n",
      "        'def long_function_name(var_one, var_two, \\n'\n",
      "        '                       var_three, var_four):\\n'\n",
      "        '    pass\\n'\n",
      "        '\\n'\n",
      "        '# 첫 줄에 파라미터가 없는 경우, 공백 8칸\\n'\n",
      "        'def long_function_name(\\n'\n",
      "        '    var_one, var_two, \\n'\n",
      "        '    var_three, var_four):\\n'\n",
      "        '    pass',\n",
      " '_i3': 'def fn(a: int) -> bool:\\n    pass',\n",
      " '_i4': 'a = [n * 2 for n in range(1, 10 + 1) if n % 2 == 1]\\na',\n",
      " '_i5': 'def get_natuiral_number():\\n'\n",
      "        '    n = 0\\n'\n",
      "        '    while True:\\n'\n",
      "        '        n += 1\\n'\n",
      "        '        yield n',\n",
      " '_i6': \"a = ['a1', 'a2', 'a3']\\n\\nfor i, v in enumerate(a):\\n    print(i, v)\",\n",
      " '_i7': 'class MyClass(object):\\n    def method_a(self):\\n        pass',\n",
      " '_i8': 'import pprint\\npprint.pprint(locals())',\n",
      " '_i9': 'import pprint\\npprint.pprint(locals(MyClass()))',\n",
      " '_ih': ['',\n",
      "         '# 첫 줄에 파라미터가 있는 경우, 파라미터 시작 부분에 맞춤\\n'\n",
      "         'def long_function_name(var_one, var_two, \\n'\n",
      "         '\\t\\t\\t\\t\\t\\t\\t\\t\\t\\t\\t var_three, var_four)\\n'\n",
      "         '\\n'\n",
      "         '# 첫 줄에 파라미터가 없는 경우, 공백 8칸\\n'\n",
      "         'def long_function_name(\\n'\n",
      "         '        var_one, var_two, \\n'\n",
      "         '\\t\\t\\t  var_three, var_four)',\n",
      "         '# 첫 줄에 파라미터가 있는 경우, 파라미터 시작 부분에 맞춤\\n'\n",
      "         'def long_function_name(var_one, var_two, \\n'\n",
      "         '                       var_three, var_four):\\n'\n",
      "         '    pass\\n'\n",
      "         '\\n'\n",
      "         '# 첫 줄에 파라미터가 없는 경우, 공백 8칸\\n'\n",
      "         'def long_function_name(\\n'\n",
      "         '    var_one, var_two, \\n'\n",
      "         '    var_three, var_four):\\n'\n",
      "         '    pass',\n",
      "         'def fn(a: int) -> bool:\\n    pass',\n",
      "         'a = [n * 2 for n in range(1, 10 + 1) if n % 2 == 1]\\na',\n",
      "         'def get_natuiral_number():\\n'\n",
      "         '    n = 0\\n'\n",
      "         '    while True:\\n'\n",
      "         '        n += 1\\n'\n",
      "         '        yield n',\n",
      "         \"a = ['a1', 'a2', 'a3']\\n\\nfor i, v in enumerate(a):\\n    print(i, v)\",\n",
      "         'class MyClass(object):\\n    def method_a(self):\\n        pass',\n",
      "         'import pprint\\npprint.pprint(locals())',\n",
      "         'import pprint\\npprint.pprint(locals(MyClass()))',\n",
      "         'import pprint\\npprint.pprint(locals(MyClass))',\n",
      "         'import pprint\\npprint.pprint(locals())'],\n",
      " '_ii': 'import pprint\\npprint.pprint(locals(MyClass()))',\n",
      " '_iii': 'import pprint\\npprint.pprint(locals())',\n",
      " '_oh': {4: [2, 6, 10, 14, 18]},\n",
      " '_sh': <module 'IPython.core.shadowns' from '/usr/local/lib/python3.7/dist-packages/IPython/core/shadowns.py'>,\n",
      " 'a': ['a1', 'a2', 'a3'],\n",
      " 'exit': <IPython.core.autocall.ZMQExitAutocall object at 0x7fe48a408e90>,\n",
      " 'fn': <function fn at 0x7fe480bfd7a0>,\n",
      " 'get_ipython': <bound method InteractiveShell.get_ipython of <google.colab._shell.Shell object at 0x7fe48da38a10>>,\n",
      " 'get_natuiral_number': <function get_natuiral_number at 0x7fe480c21cb0>,\n",
      " 'i': 2,\n",
      " 'long_function_name': <function long_function_name at 0x7fe480c0ac20>,\n",
      " 'pprint': <module 'pprint' from '/usr/lib/python3.7/pprint.py'>,\n",
      " 'quit': <IPython.core.autocall.ZMQExitAutocall object at 0x7fe48a408e90>,\n",
      " 'v': 'a3'}\n"
     ]
    }
   ],
   "source": [
    "import pprint\n",
    "pprint.pprint(locals())"
   ]
  },
  {
   "cell_type": "markdown",
   "metadata": {
    "id": "d1OCHm8beHfZ"
   },
   "source": [
    "<br><br>\n",
    "\n",
    "## 3-2. 코딩 스타일"
   ]
  },
  {
   "cell_type": "markdown",
   "metadata": {
    "id": "vPBeBpRceKmH"
   },
   "source": [
    "### 변수명과 주석\n",
    "\n",
    "> 간단한 주석 사용, 의미를 부여한 작명으로 가독성을 높일 수 있음\n",
    "> \n",
    "\n",
    "주석은 영어로 작성하는 것에 익숙해지면 좋다."
   ]
  },
  {
   "cell_type": "markdown",
   "metadata": {
    "id": "F-jgzWFveTOH"
   },
   "source": [
    "<br><br>\n",
    "\n",
    "### 리스트 컴프리헨션\n",
    "\n",
    "> 적절히 사용하지 않으면 오히려 가독성을 떨어트릴 수  있다.  \n",
    "표현식이 2개를 넘지 않게 하자.\n",
    ">"
   ]
  },
  {
   "cell_type": "markdown",
   "metadata": {
    "id": "vhDZyP1XeVmX"
   },
   "source": [
    "<br><br>\n",
    "\n",
    "### 구글 파이썬 스타일 가이드\n",
    "\n",
    "> 가독성을 높이기 위한 지침이 많으니 참고 하면 좋다.\n",
    "> \n",
    "- 함수의 기본 값으로 가변 객체(mutable object)가 아닌 불변 객체(immutable object)를 사용할 것\n",
    "- True, False 판별 시 암시적인 방법을 사용하면 가독성을 높일 수 있다.\n",
    "- 최대 줄 길이는 80자로 한다."
   ]
  },
  {
   "cell_type": "markdown",
   "metadata": {
    "id": "1bXb6u-feXcP"
   },
   "source": [
    "<br><br>\n",
    "\n",
    "---\n",
    "# 04. 빅오, 자료형\n",
    "\n",
    "> 입력 값이 커질 때 **알고리즘의 실행 시간**과 함께 **공간 요구사항**이 어떻게 증가하는지를 분류하는데 사용되며, **알고리즘의 효율성**을 분석하는데에도 활용\n",
    ">"
   ]
  },
  {
   "cell_type": "markdown",
   "metadata": {
    "id": "SZf2dYI_ea3u"
   },
   "source": [
    "<br><br>\n",
    "\n",
    "## 4-1. 빅오(O, big-O)\n",
    "\n",
    "> 입력 값이 무한대로 향할 때 함수의 상한을 설명하는 수학적 표기 방법.  \n",
    "점근적 실행 시간을 표기할 때 가장 널리 쓰이는 수학적 표기법\n",
    "\n",
    "<br>\n",
    "\n",
    "- **점근적 실행 시간(Asymptotic Running Time)**\n",
    "    - 입력값이 무한대로 향할 때 함수 실행 시간의 추이\n",
    "    - 시간복잡도라고도 할 수 있음\n",
    "\n",
    "<br>\n",
    "\n",
    "- **시간 복잡도(Time Complexity)**\n",
    "    - 어떤 알고리즘을 수행하는 데 걸리는 시간을 설명하는 계산 복잡도\n",
    "    - 시간 복잡도를 표현할 때는 최고차항만 표기\n",
    "\n",
    "  <br>\n",
    "\n",
    "- **빅오 표기법의 종류**\n",
    "    - $O(1)$: 상수 시간을 가지는 알고리즘. 입력값이 아무리 커도 실행시간은 일정\n",
    "    - $O(\\log{n})$: 로그는 매우 큰 입력 값에도 크게 영향을 받지 않는 편. 이진검색이 해당\n",
    "    - $O(n\\log{n})$: 대부분의 효율이 좋은 정렬 알고리즘이 해당\n",
    "    - $O(n^2)$: 비효율적인 정렬 알고리즘이 해당\n",
    "    - $O(2^n)$: 피보나치 수를 재귀로 계산하는 알고리즘이 해당\n",
    "    - $O(n!)$: 가장 느린 알고리즘. 입력값이 조금만 커져도 웬만한 다항 시간 내에는 계산 어려움\n",
    "    \n",
    " <br>\n",
    "\n",
    "- 알고리즘은 '시간과 공간이 **트레이드 오프** **관계**'\n",
    "    - 실행 시간이 빠르면, 공간을 많이 사용\n",
    "    - 공간을 적게 차지하면, 실행 시간이 느림"
   ]
  },
  {
   "cell_type": "markdown",
   "metadata": {
    "id": "VUkYDt4peg5-"
   },
   "source": [
    " <br> <br>\n",
    "\n",
    "### 상한과 최악\n",
    "\n",
    "> `빅오`는 **상한**을 의미(가장 늦게 실행될 때를 뜻함)\n",
    "> \n",
    "\n",
    "`빅오메가`: 하한. 가장 빨리 실행될 때를 뜻함\n",
    "\n",
    "`빅세타`: 평균"
   ]
  },
  {
   "cell_type": "markdown",
   "metadata": {
    "id": "M01qntvMeiHv"
   },
   "source": [
    " <br> <br>\n",
    "\n",
    "### 분할 상환 분석(Amortized Analysis)\n",
    "\n",
    "> '**분할 상환**' 또는 **'상각**'이라고 표현하는 최악의 경우를 여러번에 걸쳐 골고루 나눠주는 형태로 알고리즘의 시간 복잡도를 계산할 수 있다.\n",
    ">"
   ]
  },
  {
   "cell_type": "markdown",
   "metadata": {
    "id": "86qcDp61ejDm"
   },
   "source": [
    " <br> <br>\n",
    "\n",
    "### 병렬화\n",
    "\n",
    "> 일부 알고리즘은 병렬화로 실행 속도를 높일 수 있다.  \n",
    "알고리즘이 병렬화가 가능한지는 알고리즘의 우수성을 평가하는 매우 중요한 척도\n",
    "> \n",
    "- `GPU` 는 병렬 연산을 위한 대표적인 장치.\n",
    "- `GPU`는 `CPU`보다 느리지만 상대적으로 많은 코어를 가지고 병렬 연산이 가능하기 때문에 보다 많은 연산을 동시에 수행할 수 있다."
   ]
  },
  {
   "cell_type": "markdown",
   "metadata": {
    "id": "XTyWKX-8ek68"
   },
   "source": [
    "\n",
    " <br> <br>\n",
    "## 4-2. 자료형\n",
    "\n",
    "![KakaoTalk_20211208_045510694](https://user-images.githubusercontent.com/88660886/145802151-9e023c23-5704-4bce-a555-7dab39aaf2b2.jpg)\n"
   ]
  },
  {
   "cell_type": "markdown",
   "metadata": {
    "id": "OmnAfPQMfPdR"
   },
   "source": [
    " <br> <br>\n",
    "\n",
    "### 숫자\n",
    "\n",
    "> 파이썬은 숫자 정수형으로 `int` 만을 제공  \n",
    "`int` 는 임의 정밀도를 지원\n",
    "> \n",
    "- `bool` 은 논리 자료형이지만, 파이썬에서는 내부적으로 `1(True)` , `0(False)` 로 처리되는 서브 클래스다.\n",
    "- `int` 는 `object` 의 하위 클래스\n",
    "- 그래서 `object > int > bool` 로 볼 수 있다!\n",
    "\n",
    "\n",
    "- **임의 정밀도**\n",
    "    - 무제한 자릿수를 제공하는 정수형\n",
    "    - 자릿수 단위로 구분한 값을 별도 계산하여 처리\n",
    "    - 임의 정밀도로 처리하면 계산 속도는 저하된다.\n",
    "    - 기능과 안전 부분에서 이점이 있음 (단순한 언어 구조, 오류 방지)"
   ]
  },
  {
   "cell_type": "markdown",
   "metadata": {
    "id": "MrlwHvjHfTCK"
   },
   "source": [
    " <br> <br>\n",
    "### 매핑(mapping)\n",
    "\n",
    "> 키와 자료형으로 구성된 복합 자료형  \n",
    "`딕셔너리`가 이에 해당\n",
    ">"
   ]
  },
  {
   "cell_type": "markdown",
   "metadata": {
    "id": "Atl4D5UdfT_S"
   },
   "source": [
    " <br> <br>\n",
    "\n",
    "### 집합\n",
    "\n",
    "> `set`은 중복된 값을 가지지 않는 자료형  \n",
    "`set`은 입력 순서가 유지되지 않음\n",
    ">"
   ]
  },
  {
   "cell_type": "code",
   "execution_count": null,
   "metadata": {
    "colab": {
     "base_uri": "https://localhost:8080/"
    },
    "id": "svI7xnmFfVdX",
    "outputId": "68f66ff8-59a6-4e30-8e7c-4888d3b0f5cf"
   },
   "outputs": [
    {
     "data": {
      "text/plain": [
       "set()"
      ]
     },
     "execution_count": 13,
     "metadata": {},
     "output_type": "execute_result"
    }
   ],
   "source": [
    "# 빈 집합 생성\n",
    "a = set()\n",
    "a"
   ]
  },
  {
   "cell_type": "markdown",
   "metadata": {
    "id": "wUoSw0AhfbSS"
   },
   "source": [
    " <br> <br>\n",
    "\n",
    "### 시퀀스(sequence)\n",
    "\n",
    "> 순서가 있는 나열\n",
    "불변(mutable)과 가변(immutable)으로 구분\n",
    ">"
   ]
  },
  {
   "cell_type": "markdown",
   "metadata": {
    "id": "s5NBe4zafcsK"
   },
   "source": [
    " <br> <br>\n",
    "\n",
    "### 원시 타입\n",
    "\n",
    "> 원시타입은 메모리에 정확하게 타입 크기 만큼의 공간을 할당하고 그 공간을 오로지 값으로 채워 넣음.  \n",
    "**파이썬은 원시타입을 지원하지 않는다.**\n",
    ">\n",
    "\n",
    "- 빠른 연산이 가능함\n",
    "- C, 자바가 해당\n",
    "- 다양한 작업 수행 가능\n",
    "    - 대응되는 객체를 가지고 있어 객체로 변환하여 작업을 수행하기 때문\n",
    "    - 부가 정보가 추가되어 메모리 점유율이 늘고 계산 속도도 감소함"
   ]
  },
  {
   "cell_type": "markdown",
   "metadata": {
    "id": "7z-NyX4cff4S"
   },
   "source": [
    " <br> <br>\n",
    "\n",
    "### 객체\n",
    "\n",
    "> 파이썬은 모든 것이 객체다.  \n",
    "불변 객체와 가변 객체로 나눌 수 있다.\n",
    ">\n",
    "\n",
    "\n",
    "![KakaoTalk_20211208_045510694_01](https://user-images.githubusercontent.com/88660886/145802344-7bd00bff-5486-4aee-a123-b5bf850d6211.jpg)\n",
    "\n",
    " <br> \n",
    "- 파이썬에서 변수를 할당하는 작업은 해당 객체에 대해 참조한다는 의미\n",
    "\n",
    "<br>\n",
    "\n",
    "- **불변 객체**\n",
    "    - 메모리 상에 위치한 객체의 주소를 얻어오는 id() 함수를 실행한 결과는 모두 동일\n",
    "    - 불변 객체는 read-only 용도로 사용하거나 dict의 키나 set의 값으로 사용 가능\n",
    "\n",
    "<br>\n",
    "\n",
    "- **가변 객체**\n",
    "    - 다른 변수가 참조하고 있을 때 그 변수의 값 또한 변경 가능\n",
    "\n",
    "<br>\n",
    "\n",
    "- `is` 와 `==`\n",
    "    - `is` : `id()` 값을 비교하는 함수. `None` 비교 가능 (`==` 는 불가)"
   ]
  }
 ],
 "metadata": {
  "colab": {
   "collapsed_sections": [],
   "name": "01.python_Big-O.ipynb",
   "provenance": [],
   "toc_visible": true
  },
  "kernelspec": {
   "display_name": "Python 3",
   "name": "python3"
  },
  "language_info": {
   "name": "python"
  }
 },
 "nbformat": 4,
 "nbformat_minor": 0
}
