{
 "cells": [
  {
   "cell_type": "code",
   "execution_count": 17,
   "id": "going-bundle",
   "metadata": {},
   "outputs": [],
   "source": [
    "import collections\n",
    "import re"
   ]
  },
  {
   "cell_type": "code",
   "execution_count": 74,
   "id": "different-monday",
   "metadata": {},
   "outputs": [
    {
     "data": {
      "text/plain": [
       "'호진'"
      ]
     },
     "execution_count": 74,
     "metadata": {},
     "output_type": "execute_result"
    }
   ],
   "source": [
    "import random\n",
    "students = ['성연', '진우', '세현', '호진', '강민', '해창','원재', '혜윤', '미송', '상현']\n",
    "random.choice(students)"
   ]
  },
  {
   "cell_type": "markdown",
   "id": "explicit-hazard",
   "metadata": {},
   "source": [
    "# 리스트\n",
    "순서대로 저장하는 시퀀스 변경 가능한 목록\n",
    "* 코딩 테스트에서 빈번하게 사용"
   ]
  },
  {
   "cell_type": "code",
   "execution_count": 19,
   "id": "bacterial-forth",
   "metadata": {},
   "outputs": [
    {
     "name": "stdout",
     "output_type": "stream",
     "text": [
      "[1, 2, 3, 4]\n"
     ]
    }
   ],
   "source": [
    "# 리스트 선언\n",
    "a = list() \n",
    "a = []\n",
    "a = [1, 2, 3]\n",
    "\n",
    "# 리스트 연산\n",
    "a.append(4)\n",
    "print(a)"
   ]
  },
  {
   "cell_type": "code",
   "execution_count": 20,
   "id": "revised-showcase",
   "metadata": {},
   "outputs": [
    {
     "name": "stdout",
     "output_type": "stream",
     "text": [
      "[1, 2, 3, 5, 4]\n"
     ]
    }
   ],
   "source": [
    "a.insert(3, 5)\n",
    "print(a)"
   ]
  },
  {
   "cell_type": "code",
   "execution_count": 21,
   "id": "visible-rugby",
   "metadata": {},
   "outputs": [
    {
     "data": {
      "text/plain": [
       "5"
      ]
     },
     "execution_count": 21,
     "metadata": {},
     "output_type": "execute_result"
    }
   ],
   "source": [
    "a[3]"
   ]
  },
  {
   "cell_type": "code",
   "execution_count": 22,
   "id": "quantitative-recording",
   "metadata": {},
   "outputs": [
    {
     "name": "stdout",
     "output_type": "stream",
     "text": [
      "[2, 3]\n",
      "[1, 2, 3]\n",
      "[4]\n",
      "[2, 5]\n"
     ]
    }
   ],
   "source": [
    "print(a[1:3])\n",
    "print(a[:3])\n",
    "print(a[4:])\n",
    "print(a[1:4:2])"
   ]
  },
  {
   "cell_type": "code",
   "execution_count": 23,
   "id": "contemporary-photographer",
   "metadata": {},
   "outputs": [
    {
     "name": "stdout",
     "output_type": "stream",
     "text": [
      "존재하지 않는 인덱스\n"
     ]
    }
   ],
   "source": [
    "try:\n",
    "    print(a[9])\n",
    "except IndexError:\n",
    "    print(\"존재하지 않는 인덱스\")"
   ]
  },
  {
   "cell_type": "code",
   "execution_count": null,
   "id": "smooth-metabolism",
   "metadata": {},
   "outputs": [],
   "source": [
    "del a[1]\n",
    "a.remove(4)"
   ]
  },
  {
   "cell_type": "markdown",
   "id": "atlantic-colon",
   "metadata": {},
   "source": [
    "<details>\n",
    "<summary>Q1. 정답은?</summary>\n",
    "<div markdown=\"1\">\n",
    "\n",
    "del a[1] - 인덱스로 삭제하기  \n",
    "a.remove(4) - 값으로 삭제하기\n",
    "\n",
    "</div>\n",
    "</details>"
   ]
  },
  {
   "cell_type": "markdown",
   "id": "stylish-republic",
   "metadata": {},
   "source": [
    "# 딕셔너리\n",
    "키/값 구조로 이뤄진 딕셔너리\n",
    "* 해시 테이블로 구현"
   ]
  },
  {
   "cell_type": "code",
   "execution_count": 25,
   "id": "applied-rolling",
   "metadata": {},
   "outputs": [
    {
     "data": {
      "text/plain": [
       "{'입학': '9월', '졸업': '4월'}"
      ]
     },
     "execution_count": 25,
     "metadata": {},
     "output_type": "execute_result"
    }
   ],
   "source": [
    "# 딕셔너리 선언\n",
    "a = dict()\n",
    "a = {}\n",
    "a = {'입학':'9월', '졸업':'4월'}\n",
    "a"
   ]
  },
  {
   "cell_type": "code",
   "execution_count": 26,
   "id": "thorough-reader",
   "metadata": {},
   "outputs": [
    {
     "data": {
      "text/plain": [
       "{'입학': '9월', '졸업': '4월', '방학': '12월'}"
      ]
     },
     "execution_count": 26,
     "metadata": {},
     "output_type": "execute_result"
    }
   ],
   "source": [
    "# 별도 선언\n",
    "a['방학'] = '12월'\n",
    "a"
   ]
  },
  {
   "cell_type": "code",
   "execution_count": 29,
   "id": "republican-leonard",
   "metadata": {},
   "outputs": [
    {
     "name": "stdout",
     "output_type": "stream",
     "text": [
      "존재하지 않는 키\n"
     ]
    }
   ],
   "source": [
    "try:\n",
    "    print(a['자퇴'])\n",
    "except KeyError:\n",
    "    print(\"존재하지 않는 키\")"
   ]
  },
  {
   "cell_type": "code",
   "execution_count": 31,
   "id": "sixth-tissue",
   "metadata": {},
   "outputs": [
    {
     "name": "stdout",
     "output_type": "stream",
     "text": [
      "입학 9월\n",
      "졸업 4월\n",
      "방학 12월\n"
     ]
    }
   ],
   "source": [
    "# 딕셔너리 메소드\n",
    "for a, b in a.items():\n",
    "    print(a, b)"
   ]
  },
  {
   "cell_type": "markdown",
   "id": "spectacular-membership",
   "metadata": {},
   "source": [
    "<details>\n",
    "<summary>Q2. 정답은?</summary>\n",
    "<div markdown=\"1\">\n",
    "\n",
    "a : key  \n",
    "b : value\n",
    "\n",
    "</div>\n",
    "</details>"
   ]
  },
  {
   "cell_type": "markdown",
   "id": "twelve-behavior",
   "metadata": {},
   "source": [
    "## 딕셔너리 객체\n",
    "### defaultdict"
   ]
  },
  {
   "cell_type": "code",
   "execution_count": 40,
   "id": "challenging-object",
   "metadata": {},
   "outputs": [
    {
     "data": {
      "text/plain": [
       "defaultdict(int, {'A': 5, 'B': 4})"
      ]
     },
     "execution_count": 40,
     "metadata": {},
     "output_type": "execute_result"
    }
   ],
   "source": [
    "# defaultdict 객체\n",
    "a = collections.defaultdict(int)\n",
    "a['A'] = 5\n",
    "a['B'] = 4\n",
    "a"
   ]
  },
  {
   "cell_type": "code",
   "execution_count": 41,
   "id": "russian-yield",
   "metadata": {},
   "outputs": [
    {
     "data": {
      "text/plain": [
       "defaultdict(int, {'A': 5, 'B': 4, 'C': 1})"
      ]
     },
     "execution_count": 41,
     "metadata": {},
     "output_type": "execute_result"
    }
   ],
   "source": [
    "a['C'] += 1\n",
    "a"
   ]
  },
  {
   "cell_type": "code",
   "execution_count": 42,
   "id": "excited-recording",
   "metadata": {},
   "outputs": [
    {
     "data": {
      "text/plain": [
       "defaultdict(int, {'A': 5, 'B': 4, 'C': 1, 'D': 0})"
      ]
     },
     "execution_count": 42,
     "metadata": {},
     "output_type": "execute_result"
    }
   ],
   "source": [
    "a['D'] = 0\n",
    "a"
   ]
  },
  {
   "cell_type": "markdown",
   "id": "senior-affairs",
   "metadata": {},
   "source": [
    "<details>\n",
    "<summary>Q3. 디폴트 값은?</summary>\n",
    "<div markdown=\"1\">\n",
    "\n",
    "0\n",
    "\n",
    "</div>\n",
    "</details>"
   ]
  },
  {
   "cell_type": "markdown",
   "id": "subtle-account",
   "metadata": {},
   "source": [
    "### Counter"
   ]
  },
  {
   "cell_type": "code",
   "execution_count": 36,
   "id": "reflected-quest",
   "metadata": {},
   "outputs": [
    {
     "data": {
      "text/plain": [
       "Counter({1: 2, 2: 2, 3: 3, 4: 2, 5: 2})"
      ]
     },
     "execution_count": 36,
     "metadata": {},
     "output_type": "execute_result"
    }
   ],
   "source": [
    "a = [1, 2, 3, 4, 5, 5, 4, 3, 3, 2, 1]\n",
    "b = collections.Counter(a)\n",
    "b"
   ]
  },
  {
   "cell_type": "code",
   "execution_count": 37,
   "id": "broken-tourist",
   "metadata": {},
   "outputs": [
    {
     "data": {
      "text/plain": [
       "[(3, 3), (1, 2), (2, 2)]"
      ]
     },
     "execution_count": 37,
     "metadata": {},
     "output_type": "execute_result"
    }
   ],
   "source": [
    "b.most_common(3)"
   ]
  },
  {
   "cell_type": "markdown",
   "id": "beautiful-recorder",
   "metadata": {},
   "source": [
    "### OrderedDict"
   ]
  },
  {
   "cell_type": "code",
   "execution_count": 38,
   "id": "serious-wrist",
   "metadata": {},
   "outputs": [
    {
     "data": {
      "text/plain": [
       "OrderedDict([('banana', 3), ('apple', 2), ('orange', 1)])"
      ]
     },
     "execution_count": 38,
     "metadata": {},
     "output_type": "execute_result"
    }
   ],
   "source": [
    "collections.OrderedDict({'banana':3, 'apple':2, 'orange':1})"
   ]
  },
  {
   "cell_type": "markdown",
   "id": "norwegian-riding",
   "metadata": {},
   "source": [
    "# 문자열"
   ]
  },
  {
   "cell_type": "markdown",
   "id": "phantom-combine",
   "metadata": {},
   "source": [
    "## Q1. 유효한 팰린드롬\n",
    "주어진 문자열이 팰린드롬인지 확인하라. 대소문자를 구분하지 않으며, 영문자와 숫자만을 대상으로 한다.  \n",
    "`팰린드롬` : 앞뒤가 똑같은 문자"
   ]
  },
  {
   "cell_type": "code",
   "execution_count": 44,
   "id": "powered-palmer",
   "metadata": {},
   "outputs": [],
   "source": [
    "inp = [\"A man, a plan, a canal: Panama\", \"race a car\"]"
   ]
  },
  {
   "cell_type": "code",
   "execution_count": 45,
   "id": "sticky-apparatus",
   "metadata": {},
   "outputs": [],
   "source": [
    "# 리스트로 변환\n",
    "def solutions(strings):\n",
    "    strs = []\n",
    "    \n",
    "    for c in strings:\n",
    "        if c.isalnum():\n",
    "            strs.append(c.lower())\n",
    "    \n",
    "    while len(strs)>1:\n",
    "        if strs.pop(0) != strs.pop():\n",
    "            return False\n",
    "    \n",
    "    return True"
   ]
  },
  {
   "cell_type": "markdown",
   "id": "driven-precipitation",
   "metadata": {},
   "source": [
    "<details>\n",
    "<summary>Q4. isalnum은 무엇일까요?</summary>\n",
    "<div markdown=\"1\">\n",
    "\n",
    "영어, 한국어, 숫자로 구성되어 있으면 참\n",
    "\n",
    "</div>\n",
    "</details>"
   ]
  },
  {
   "cell_type": "code",
   "execution_count": 46,
   "id": "stock-hypothesis",
   "metadata": {
    "scrolled": true
   },
   "outputs": [
    {
     "data": {
      "text/plain": [
       "[True, False]"
      ]
     },
     "execution_count": 46,
     "metadata": {},
     "output_type": "execute_result"
    }
   ],
   "source": [
    "list(map(solutions, inp))"
   ]
  },
  {
   "cell_type": "code",
   "execution_count": 47,
   "id": "super-thirty",
   "metadata": {},
   "outputs": [],
   "source": [
    "# 데크 자료형을 이용한 최적화\n",
    "def solutions2(strings):\n",
    "    strs = collections.deque()\n",
    "    \n",
    "    for c in strings:\n",
    "        if c.isalnum():\n",
    "            strs.append(c.lower())\n",
    "    \n",
    "    while len(strs)>1:\n",
    "        if strs.popleft() != strs.pop():\n",
    "            return False\n",
    "    \n",
    "    return True"
   ]
  },
  {
   "cell_type": "code",
   "execution_count": 48,
   "id": "attended-keeping",
   "metadata": {},
   "outputs": [
    {
     "data": {
      "text/plain": [
       "[True, False]"
      ]
     },
     "execution_count": 48,
     "metadata": {},
     "output_type": "execute_result"
    }
   ],
   "source": [
    "list(map(solutions2, inp))"
   ]
  },
  {
   "cell_type": "code",
   "execution_count": 52,
   "id": "authentic-baking",
   "metadata": {},
   "outputs": [],
   "source": [
    "# 슬라이싱 사용\n",
    "def solutions3(strings):\n",
    "    strings = strings.lower()\n",
    "    strings = re.sub('[^a-z0-9]', '', strings)\n",
    "    \n",
    "    return strings == strings[::-1]"
   ]
  },
  {
   "cell_type": "code",
   "execution_count": 54,
   "id": "coral-particle",
   "metadata": {},
   "outputs": [
    {
     "name": "stdout",
     "output_type": "stream",
     "text": [
      "안녕하세요\n",
      "요세하녕안\n",
      "안하요\n"
     ]
    }
   ],
   "source": [
    "# 슬라이싱\n",
    "s = \"안녕하세요\"\n",
    "print(s[::1])\n",
    "print(s[::-1])\n",
    "print(s[::2])"
   ]
  },
  {
   "cell_type": "markdown",
   "id": "excess-exemption",
   "metadata": {},
   "source": [
    "<details>\n",
    "<summary>Q5. re.sub('[^a-z0-9]', '', s)은 무엇을 의미할까요?</summary>\n",
    "<div markdown=\"1\">\n",
    "\n",
    "^ : not을 의미\n",
    "알파벳 및 숫자가 아니면 삭제한다.\n",
    "\n",
    "</div>\n",
    "</details>"
   ]
  },
  {
   "cell_type": "code",
   "execution_count": 53,
   "id": "minute-penalty",
   "metadata": {},
   "outputs": [
    {
     "data": {
      "text/plain": [
       "[True, False]"
      ]
     },
     "execution_count": 53,
     "metadata": {},
     "output_type": "execute_result"
    }
   ],
   "source": [
    "list(map(solutions3, inp))"
   ]
  },
  {
   "cell_type": "markdown",
   "id": "about-material",
   "metadata": {},
   "source": [
    "## Q2. 문자열 뒤집기\n",
    "문자열을 뒤집는 함수를 작성하라. 입력값은 문자 배열이며, 리턴 없이 리스트 내부를 직접 조작하라"
   ]
  },
  {
   "cell_type": "code",
   "execution_count": 58,
   "id": "leading-finland",
   "metadata": {},
   "outputs": [],
   "source": [
    "inp = [[\"h\", \"e\", \"l\", \"l\", \"o\"], [\"h\", \"a\", \"n\", \"n\", \"a\", \"h\"]]"
   ]
  },
  {
   "cell_type": "code",
   "execution_count": 51,
   "id": "creative-convention",
   "metadata": {},
   "outputs": [],
   "source": [
    "# 투 포인터를 이용한 스왑\n",
    "def solutions(l):\n",
    "    left , right = 0, len(l)-1\n",
    "    while left < right:\n",
    "        l[left], l[right] = l[right], l[left]\n",
    "        left += 1\n",
    "        right -= 1\n",
    "    return l"
   ]
  },
  {
   "cell_type": "code",
   "execution_count": 52,
   "id": "organic-portfolio",
   "metadata": {},
   "outputs": [
    {
     "data": {
      "text/plain": [
       "[['o', 'l', 'l', 'e', 'h'], ['h', 'a', 'n', 'n', 'a', 'h']]"
      ]
     },
     "execution_count": 52,
     "metadata": {},
     "output_type": "execute_result"
    }
   ],
   "source": [
    "list(map(solutions, inp))"
   ]
  },
  {
   "cell_type": "code",
   "execution_count": 59,
   "id": "maritime-seventh",
   "metadata": {},
   "outputs": [],
   "source": [
    "# 파이썬 다운 방식\n",
    "def solutions(l):\n",
    "    l.reverse()\n",
    "    return l"
   ]
  },
  {
   "cell_type": "code",
   "execution_count": 60,
   "id": "classified-paintball",
   "metadata": {},
   "outputs": [
    {
     "data": {
      "text/plain": [
       "[['o', 'l', 'l', 'e', 'h'], ['h', 'a', 'n', 'n', 'a', 'h']]"
      ]
     },
     "execution_count": 60,
     "metadata": {},
     "output_type": "execute_result"
    }
   ],
   "source": [
    "list(map(solutions, inp))"
   ]
  },
  {
   "cell_type": "code",
   "execution_count": null,
   "id": "alpine-tourism",
   "metadata": {},
   "outputs": [],
   "source": [
    "# s = s[::-1] \n",
    "s[:] = s[::-1]"
   ]
  },
  {
   "cell_type": "markdown",
   "id": "third-positive",
   "metadata": {},
   "source": [
    "## Q3. 로그 파일 재정렬\n",
    "로그를 재정렬하라. 기준은 다음과 같다.\n",
    "1. 로그의 가장 앞 부분은 식별자다.\n",
    "2. 문자로 구성된 로그가 숫자 로그보다 앞에 온다.\n",
    "3. 식별자는 순서에 영향을 끼치지 않지만, 문자가 동일한 경우 식별자 순으로 한다.\n",
    "4. 숫자 로그는 입력 순서대로 한다."
   ]
  },
  {
   "cell_type": "code",
   "execution_count": 62,
   "id": "temporal-hurricane",
   "metadata": {},
   "outputs": [],
   "source": [
    "logs = [\"dig1 8 1 5 1\", \"let1 art can\", \"dig2 3 6\", \"let2 own kit dig\", \"let3 art zero\"]"
   ]
  },
  {
   "cell_type": "code",
   "execution_count": 63,
   "id": "electric-factor",
   "metadata": {},
   "outputs": [],
   "source": [
    "def solutions(logs):\n",
    "    digits = []\n",
    "    letters = []\n",
    "    for log in logs:\n",
    "        if log.split()[1].isdigit():\n",
    "            digits.append(log)\n",
    "        else:\n",
    "            letters.append(log)\n",
    "        \n",
    "    letters.sort(key=lambda x:(x.split()[1:], x.split()[0]))\n",
    "    \n",
    "    \n",
    "    return letters + digits"
   ]
  },
  {
   "cell_type": "code",
   "execution_count": 64,
   "id": "capable-distributor",
   "metadata": {},
   "outputs": [
    {
     "data": {
      "text/plain": [
       "['let1 art can',\n",
       " 'let3 art zero',\n",
       " 'let2 own kit dig',\n",
       " 'dig1 8 1 5 1',\n",
       " 'dig2 3 6']"
      ]
     },
     "execution_count": 64,
     "metadata": {},
     "output_type": "execute_result"
    }
   ],
   "source": [
    "solutions(logs)"
   ]
  },
  {
   "cell_type": "markdown",
   "id": "uniform-support",
   "metadata": {},
   "source": [
    "<details>\n",
    "<summary>Q6. lambda x:(x.split()[1:], x.split()[0])를 함수 형태로 나타내면?</summary>\n",
    "<div markdown=\"1\">\n",
    "\n",
    "def func(x):  \n",
    "    return x.split()[1], x.split()[0]  \n",
    "\n",
    "</div>\n",
    "</details>"
   ]
  },
  {
   "cell_type": "markdown",
   "id": "ongoing-punishment",
   "metadata": {},
   "source": [
    "## Q4. 가장 흔한 단어\n",
    "금지된 단어를 제외한 가장 흔하게 등장하는 단어를 출력하라. 대소문자 구분을 하지 않으며, 구두점(마침표, 쉼표 등)또한 무시한다."
   ]
  },
  {
   "cell_type": "code",
   "execution_count": 66,
   "id": "appointed-dollar",
   "metadata": {},
   "outputs": [],
   "source": [
    "paragraph = \"Bob hit a ball, the hit BALL flew far after it was hit\"\n",
    "banned = [\"hit\"]"
   ]
  },
  {
   "cell_type": "code",
   "execution_count": 69,
   "id": "suitable-floor",
   "metadata": {},
   "outputs": [],
   "source": [
    "def solution(paragraph):\n",
    "    words = [word for word in re.sub(r'[^\\w]', ' ', paragraph).lower().split() if word not in banned]\n",
    "    counts= collections.Counter(words)\n",
    "    return counts.most_common(1)[0][0]"
   ]
  },
  {
   "cell_type": "code",
   "execution_count": 70,
   "id": "developed-animal",
   "metadata": {},
   "outputs": [
    {
     "data": {
      "text/plain": [
       "'ball'"
      ]
     },
     "execution_count": 70,
     "metadata": {},
     "output_type": "execute_result"
    }
   ],
   "source": [
    "solution(paragraph)"
   ]
  },
  {
   "cell_type": "markdown",
   "id": "artistic-capital",
   "metadata": {},
   "source": [
    "## Q5. 그룹 애너그램\n",
    "문자열 배열을 받아 애너그램 단위로 그룹핑하라  \n",
    "`애너그램` : 문자를 재배열하여 다른 뜻을 가진 단어로 바꾸는 것"
   ]
  },
  {
   "cell_type": "code",
   "execution_count": 71,
   "id": "municipal-alloy",
   "metadata": {},
   "outputs": [],
   "source": [
    "inp = [\"eat\", \"tea\", \"tan\", \"ate\", \"nat\", \"bat\"]"
   ]
  },
  {
   "cell_type": "code",
   "execution_count": 72,
   "id": "tired-racing",
   "metadata": {},
   "outputs": [],
   "source": [
    "def solutions(l):\n",
    "    anagrams = collections.defaultdict(list)\n",
    "    \n",
    "    for word in l:\n",
    "        anagrams[''.join(sorted(word))].append(word)\n",
    "    \n",
    "    return list(anagrams.values())"
   ]
  },
  {
   "cell_type": "code",
   "execution_count": 73,
   "id": "artistic-radical",
   "metadata": {},
   "outputs": [
    {
     "name": "stdout",
     "output_type": "stream",
     "text": [
      "[['eat', 'tea', 'ate'], ['tan', 'nat'], ['bat']]\n"
     ]
    }
   ],
   "source": [
    "print(solutions(inp))"
   ]
  },
  {
   "cell_type": "markdown",
   "id": "olive-behalf",
   "metadata": {},
   "source": [
    "## Q6. 가장 긴 팰린드롬 부분 문자열\n",
    "가장 긴 팰린드롬 부분 문자열을 출력하라  \n",
    "`팰린드롬` : 앞뒤가 똑같은 문자"
   ]
  },
  {
   "cell_type": "code",
   "execution_count": 75,
   "id": "ultimate-updating",
   "metadata": {},
   "outputs": [],
   "source": [
    "inp = [\"babad\", \"cbbd\"]"
   ]
  },
  {
   "cell_type": "code",
   "execution_count": 76,
   "id": "adverse-support",
   "metadata": {},
   "outputs": [],
   "source": [
    "def solutions(strings):\n",
    "    \n",
    "    def expand(left, right):\n",
    "        while left>=0 and right <len(strings) and strings[left] == strings[right]:\n",
    "            left -= 1\n",
    "            right += 1\n",
    "        return strings[left + 1:right]\n",
    "    \n",
    "    if len(strings) < 2 or strings == strings[::-1]:\n",
    "        return strings\n",
    "      \n",
    "    result = ''\n",
    "    for i in range(len(strings)-1):\n",
    "        result = max(result, expand(i, i+1), expand(i, i+2), key=len)\n",
    "    \n",
    "    return result"
   ]
  },
  {
   "cell_type": "code",
   "execution_count": 77,
   "id": "yellow-master",
   "metadata": {},
   "outputs": [
    {
     "data": {
      "text/plain": [
       "['bab', 'bb']"
      ]
     },
     "execution_count": 77,
     "metadata": {},
     "output_type": "execute_result"
    }
   ],
   "source": [
    "list(map(solutions, inp))"
   ]
  },
  {
   "cell_type": "markdown",
   "id": "moving-volleyball",
   "metadata": {},
   "source": [
    "<details>\n",
    "<summary>Q7. result = max(a, b, c, key=len) 의미는?</summary>\n",
    "<div markdown=\"1\">\n",
    "\n",
    "길이가 긴 요소를 결과로 출력\n",
    "\n",
    "</div>\n",
    "</details>"
   ]
  }
 ],
 "metadata": {
  "kernelspec": {
   "display_name": "Python 3",
   "language": "python",
   "name": "python3"
  },
  "language_info": {
   "codemirror_mode": {
    "name": "ipython",
    "version": 3
   },
   "file_extension": ".py",
   "mimetype": "text/x-python",
   "name": "python",
   "nbconvert_exporter": "python",
   "pygments_lexer": "ipython3",
   "version": "3.7.9"
  }
 },
 "nbformat": 4,
 "nbformat_minor": 5
}
